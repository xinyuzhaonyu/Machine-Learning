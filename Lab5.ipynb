{
 "cells": [
  {
   "cell_type": "code",
   "execution_count": 1,
   "metadata": {},
   "outputs": [],
   "source": [
    "import numpy as np\n",
    "import matplotlib.pyplot as plt\n",
    "import pickle\n",
    "\n",
    "from sklearn.linear_model import Lasso, Ridge, ElasticNet\n",
    "from sklearn.metrics import r2_score\n",
    "from sklearn.model_selection import train_test_split"
   ]
  },
  {
   "cell_type": "markdown",
   "metadata": {},
   "source": [
    "# Load the Data"
   ]
  },
  {
   "cell_type": "code",
   "execution_count": 2,
   "metadata": {},
   "outputs": [
    {
     "name": "stdout",
     "output_type": "stream",
     "text": [
      "File eeg_dat.p is already downloaded\n"
     ]
    }
   ],
   "source": [
    "fn_src ='https://drive.google.com/uc?export=download&id=1RzQpKONOcXSMxH2ZzOI4iVMiTgD6ttSl'\n",
    "fn_dst ='eeg_dat.p'\n",
    "\n",
    "import os\n",
    "from six.moves import urllib\n",
    "\n",
    "if os.path.isfile(fn_dst):\n",
    "    print('File %s is already downloaded' % fn_dst)\n",
    "else:        \n",
    "    print('Fetching file %s [53MB].  This may take a minute..' % fn_dst)\n",
    "    urllib.request.urlretrieve(fn_src, fn_dst)\n",
    "    print('File %s downloaded' % fn_dst)"
   ]
  },
  {
   "cell_type": "code",
   "execution_count": 3,
   "metadata": {},
   "outputs": [],
   "source": [
    "import pickle\n",
    "fn = 'eeg_dat.p'\n",
    "with open(fn, 'rb') as fp:\n",
    "    [X,Y] = pickle.load(fp)"
   ]
  },
  {
   "cell_type": "code",
   "execution_count": 4,
   "metadata": {},
   "outputs": [
    {
     "name": "stdout",
     "output_type": "stream",
     "text": [
      "nt = 85, ncur = 22494, nchan = 305, nvoxels = 7498.0\n"
     ]
    }
   ],
   "source": [
    "\n",
    "nt = Y.shape[1]\n",
    "ncur = X.shape[1]\n",
    "nchan = Y.shape[0]\n",
    "nvoxels = ncur/3\n",
    "print(\"nt = {}, ncur = {}, nchan = {}, nvoxels = {}\" .format(nt,ncur,nchan,nvoxels))"
   ]
  },
  {
   "cell_type": "markdown",
   "metadata": {},
   "source": [
    "# Ridge Regression"
   ]
  },
  {
   "cell_type": "code",
   "execution_count": 5,
   "metadata": {},
   "outputs": [],
   "source": [
    "Xtr,Xts,Ytr,Yts = train_test_split(X,Y,test_size = 0.33)"
   ]
  },
  {
   "cell_type": "code",
   "execution_count": 6,
   "metadata": {},
   "outputs": [],
   "source": [
    "regr = Ridge(alpha = 1)"
   ]
  },
  {
   "cell_type": "code",
   "execution_count": 7,
   "metadata": {},
   "outputs": [
    {
     "name": "stdout",
     "output_type": "stream",
     "text": [
      "0.576835281875449\n",
      "0.1714886897394025\n"
     ]
    }
   ],
   "source": [
    "regr.fit(Xtr,Ytr)\n",
    "YtrPred = regr.predict(Xtr)\n",
    "rsq_tr = r2_score(Ytr,YtrPred)\n",
    "print(rsq_tr)\n",
    "YtsPred = regr.predict(Xts)\n",
    "rsq_ts = r2_score(Yts, YtsPred)\n",
    "print(rsq_ts)"
   ]
  },
  {
   "cell_type": "code",
   "execution_count": 8,
   "metadata": {},
   "outputs": [
    {
     "name": "stdout",
     "output_type": "stream",
     "text": [
      "[1.00000000e-02 1.62377674e-02 2.63665090e-02 4.28133240e-02\n",
      " 6.95192796e-02 1.12883789e-01 1.83298071e-01 2.97635144e-01\n",
      " 4.83293024e-01 7.84759970e-01 1.27427499e+00 2.06913808e+00\n",
      " 3.35981829e+00 5.45559478e+00 8.85866790e+00 1.43844989e+01\n",
      " 2.33572147e+01 3.79269019e+01 6.15848211e+01 1.00000000e+02]\n"
     ]
    }
   ],
   "source": [
    "nalphas = 20\n",
    "alphas = np.logspace(-2,2, nalphas)\n",
    "rssts = np.zeros((nalphas,1))\n",
    "print(alphas)\n",
    "for i, alph in enumerate(alphas):\n",
    "    regr = Ridge(alpha = alph)\n",
    "    regr.fit(Xtr,Ytr)\n",
    "    testPred = regr.predict(Xts)\n",
    "    rssts[i] = r2_score(Yts,testPred)"
   ]
  },
  {
   "cell_type": "code",
   "execution_count": 9,
   "metadata": {},
   "outputs": [
    {
     "name": "stdout",
     "output_type": "stream",
     "text": [
      "Maximum R^2: 0.231140\n"
     ]
    },
    {
     "data": {
      "image/png": "[encoded data removed]",
      "text/plain": [
       "<Figure size 432x288 with 1 Axes>"
      ]
     },
     "metadata": {
      "needs_background": "light"
     },
     "output_type": "display_data"
    }
   ],
   "source": [
    "plt.plot(np.log10(alphas),rssts)\n",
    "plt.grid()\n",
    "plt.ylabel(\"Rss values\")\n",
    "plt.xlabel(\"alpha\")\n",
    "print(\"Maximum R^2: %f\"%(max(rssts)))"
   ]
  },
  {
   "cell_type": "code",
   "execution_count": 10,
   "metadata": {},
   "outputs": [
    {
     "data": {
      "image/png": "[encoded data removed]",
      "text/plain": [
       "<Figure size 432x288 with 1 Axes>"
      ]
     },
     "metadata": {
      "needs_background": "light"
     },
     "output_type": "display_data"
    }
   ],
   "source": [
    "iopt = np.argmax(rssts)\n",
    "alphaopt = alphas[iopt]\n",
    "regr = Ridge(alpha = alphaopt)\n",
    "regr.fit(Xtr,Ytr)\n",
    "ytsoptPred = regr.predict(Xts)\n",
    "W = regr.coef_\n",
    "W = np.transpose(W)\n",
    "Wrms = np.zeros((ncur))\n",
    "Wrms = np.sqrt(np.sum(W**2,axis=1))\n",
    "plt.plot(Wrms)\n",
    "plt.grid()"
   ]
  },
  {
   "cell_type": "markdown",
   "metadata": {},
   "source": [
    "# LASSO Regression"
   ]
  },
  {
   "cell_type": "code",
   "execution_count": 11,
   "metadata": {},
   "outputs": [
    {
     "data": {
      "text/plain": [
       "Lasso(alpha=0.001, max_iter=100, tol=0.01)"
      ]
     },
     "execution_count": 11,
     "metadata": {},
     "output_type": "execute_result"
    }
   ],
   "source": [
    "alpha_lasso = 1e-3\n",
    "model = Lasso(alpha = alpha_lasso, max_iter = 100, tol = 0.01)\n",
    "model.fit(Xtr,Ytr)"
   ]
  },
  {
   "cell_type": "code",
   "execution_count": 12,
   "metadata": {},
   "outputs": [
    {
     "name": "stdout",
     "output_type": "stream",
     "text": [
      "0.1631273950987312\n"
     ]
    },
    {
     "data": {
      "text/plain": [
       "(101, 85)"
      ]
     },
     "execution_count": 12,
     "metadata": {},
     "output_type": "execute_result"
    }
   ],
   "source": [
    "YtsLPred = model.predict(Xts)\n",
    "rsq_lasso = r2_score(Yts, YtsLPred)\n",
    "print(rsq_lasso)\n",
    "YtsLPred.shape"
   ]
  },
  {
   "cell_type": "code",
   "execution_count": 13,
   "metadata": {},
   "outputs": [],
   "source": [
    "lAphlas = np.logspace(-3,-4,5)\n",
    "rss_lasso = np.zeros(5)\n",
    "coeffs = np.zeros((5,nt,ncur))\n",
    "x,y = Yts.shape\n",
    "YtsPred = np.zeros((5,x,y))\n",
    "for i, alph in enumerate(lAphlas):\n",
    "    model = Lasso(alpha = alph, max_iter = 100, tol = 0.01)\n",
    "    model.fit(Xtr,Ytr)\n",
    "    YtsPred[i] = model.predict(Xts)\n",
    "    rss_lasso[i] = r2_score(Yts,YtsPred[i])\n",
    "    coeffs[i] = model.coef_"
   ]
  },
  {
   "cell_type": "code",
   "execution_count": 14,
   "metadata": {},
   "outputs": [
    {
     "name": "stdout",
     "output_type": "stream",
     "text": [
      "Maximum R^2: 0.354970\n"
     ]
    },
    {
     "data": {
      "image/png": "[encoded data removed]",
      "text/plain": [
       "<Figure size 432x288 with 1 Axes>"
      ]
     },
     "metadata": {
      "needs_background": "light"
     },
     "output_type": "display_data"
    }
   ],
   "source": [
    "plt.plot(np.log10(lAphlas),rss_lasso)\n",
    "plt.grid()\n",
    "plt.ylabel(\"Rss values\")\n",
    "plt.xlabel(\"alpha\")\n",
    "print(\"Maximum R^2: %f\"%(max(rss_lasso)))"
   ]
  },
  {
   "cell_type": "code",
   "execution_count": 15,
   "metadata": {},
   "outputs": [
    {
     "data": {
      "image/png": "[encoded data removed]",
      "text/plain": [
       "<Figure size 432x288 with 1 Axes>"
      ]
     },
     "metadata": {
      "needs_background": "light"
     },
     "output_type": "display_data"
    }
   ],
   "source": [
    "iopt = np.argmax(rss_lasso)\n",
    "alphaopt = alphas[iopt]\n",
    "\n",
    "YtsoptPred = YtsPred[iopt]\n",
    "W = coeffs[iopt]\n",
    "W = np.transpose(W)\n",
    "Wrms = np.zeros((ncur))\n",
    "Wrms = np.sqrt(np.sum(W**2,axis=1))\n",
    "plt.plot(Wrms)\n",
    "plt.grid()"
   ]
  },
  {
   "cell_type": "code",
   "execution_count": null,
   "metadata": {},
   "outputs": [],
   "source": []
  }
 ],
 "metadata": {
  "kernelspec": {
   "display_name": "Python 3",
   "language": "python",
   "name": "python3"
  },
  "language_info": {
   "codemirror_mode": {
    "name": "ipython",
    "version": 3
   },
   "file_extension": ".py",
   "mimetype": "text/x-python",
   "name": "python",
   "nbconvert_exporter": "python",
   "pygments_lexer": "ipython3",
   "version": "3.8.5"
  }
 },
 "nbformat": 4,
 "nbformat_minor": 4
}
